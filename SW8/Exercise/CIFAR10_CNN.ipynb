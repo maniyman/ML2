{
  "cells": [
    {
      "cell_type": "markdown",
      "metadata": {
        "id": "fJ_KLnloAI5t"
      },
      "source": [
        "# Training a deep (convolutional) neural network on CIFAR10"
      ]
    },
    {
      "cell_type": "code",
      "execution_count": null,
      "metadata": {
        "id": "dzLKpmZICaWN",
        "tags": []
      },
      "outputs": [],
      "source": [
        "# TensorFlow and tf.keras\n",
        "import tensorflow as tf\n",
        "import os\n",
        "\n",
        "# Helper libraries\n",
        "import numpy as np\n",
        "import matplotlib.pyplot as plt\n",
        "\n",
        "import pandas as pd\n",
        "\n",
        "import time\n",
        "import PIL.Image as Image\n",
        "from IPython.display import Image, display\n",
        "import matplotlib.cm as cm\n",
        "\n",
        "print(tf.__version__)\n",
        "print(tf.config.list_physical_devices())\n",
        "\n"
      ]
    },
    {
      "cell_type": "markdown",
      "metadata": {
        "id": "FLm6DzjJAI5x"
      },
      "source": [
        "## 1. Code Convolutions"
      ]
    },
    {
      "cell_type": "code",
      "execution_count": null,
      "metadata": {
        "id": "yXy3Ft7nAI5y"
      },
      "outputs": [],
      "source": [
        "img =  tf.keras.utils.load_img('yourImage.jpeg', target_size=(128,128))\n",
        "data =  tf.keras.utils.img_to_array(img)/255.0\n",
        "samples = tf.expand_dims(data, 0)\n",
        "\n",
        "\n",
        "plt.imshow(img, cmap=\"gray\")\n",
        "plt.axis(\"off\")\n",
        "plt.show()"
      ]
    },
    {
      "cell_type": "code",
      "execution_count": null,
      "metadata": {
        "id": "apay9VytAI5y"
      },
      "outputs": [],
      "source": [
        "img =  tf.keras.utils.load_img('yourImage.jpeg', target_size=(128,128))\n",
        "data =  tf.keras.utils.img_to_array(img)/255.0\n",
        "samples = tf.expand_dims(data, 0)\n",
        "\n",
        "channels = 3\n",
        "\n",
        "\n",
        "# Create a 7x7 vertical filter and then a horizontal filter\n",
        "# ATTENTION: Convolutions in keras are 4D, meaning [num_pixels, num_pixels, num_channels, num_filters]\n",
        "\n",
        "#define the structure of the filter\n",
        "filter = #ADD YOUR CODE\n",
        "\n",
        "#assign the right numerical values to the array (filters weights)\n",
        "filter[#ADD YOUR CODE\n",
        "    ] = #ADD YOUR CODE\n",
        "\n",
        "\n",
        "\n",
        "outputs = tf.nn.conv2d(samples, filter, strides=1, padding=\"SAME\")\n",
        "\n",
        "\n",
        "\n",
        "plt.imshow(outputs[0, :, :, 0], cmap=\"gray\") # plot image's 1nd feature map\n",
        "plt.axis(\"off\")\n",
        "plt.show()"
      ]
    },
    {
      "cell_type": "markdown",
      "metadata": {
        "id": "zl5mIu9lAI5z"
      },
      "source": [
        "## Ex2: CNN on CIFAR 10"
      ]
    },
    {
      "cell_type": "code",
      "execution_count": null,
      "metadata": {
        "id": "QSE8JDXLAI5z"
      },
      "outputs": [],
      "source": [
        "#setup folder where you will save logs for tensorflow\n",
        "root_logdir = os.path.join(os.curdir,\"my_logs_ML2_CIFAR\")\n",
        "\n",
        "\n",
        "def get_run_logdir():\n",
        "    import time\n",
        "    run_id = time.strftime(\"run_%Y_%m_%d-%H_%M_%S\")\n",
        "    return os.path.join(root_logdir, run_id)\n",
        "\n"
      ]
    },
    {
      "cell_type": "markdown",
      "metadata": {
        "id": "q9CVFYEDAI5z"
      },
      "source": [
        "Import the CIFAR 10 library, split into train, validation and test images."
      ]
    },
    {
      "cell_type": "code",
      "execution_count": null,
      "metadata": {
        "id": "7MqDQO0KCaWS",
        "tags": []
      },
      "outputs": [],
      "source": [
        "cifar = tf.keras.datasets.cifar10\n",
        "\n",
        "(train_full_images, train_full_labels), (test_images, test_labels) = cifar.load_data()\n",
        "\n",
        "valid_images, train_images = train_full_images[:5000], train_full_images[5000:]\n",
        "valid_labels, train_labels = train_full_labels[:5000], train_full_labels[5000:]\n",
        "test_images = test_images\n",
        "\n",
        "class_names = ['airplane', 'automobile', 'bird', 'cat', 'deer', 'dog', 'frog', 'horse', 'ship', 'truck']"
      ]
    },
    {
      "cell_type": "code",
      "execution_count": null,
      "metadata": {
        "id": "0xKOofpfAI51"
      },
      "outputs": [],
      "source": [
        "plt.figure(figsize=(10,10))\n",
        "for i in range(25):\n",
        "    plt.subplot(5,5,i+1)\n",
        "    plt.xticks([])\n",
        "    plt.yticks([])\n",
        "    plt.grid(False)\n",
        "    plt.imshow(train_images[i])\n",
        "    # The CIFAR labels happen to be arrays,\n",
        "    # which is why you need the extra index\n",
        "    plt.xlabel(class_names[train_labels[i][0]])\n",
        "plt.show()"
      ]
    },
    {
      "cell_type": "markdown",
      "metadata": {
        "id": "IjnLH5S2CaWx",
        "tags": []
      },
      "source": [
        "Check out some properties of the imported dataset"
      ]
    },
    {
      "cell_type": "code",
      "execution_count": null,
      "metadata": {
        "id": "zW5k_xz1CaWX",
        "tags": []
      },
      "outputs": [],
      "source": [
        "print('training ds shape:', train_images.shape)\n",
        "print('validation ds shape:', valid_images.shape)\n",
        "print('test ds shape:', test_images.shape)"
      ]
    },
    {
      "cell_type": "code",
      "execution_count": null,
      "metadata": {
        "id": "XKnCTHz4CaWg",
        "tags": []
      },
      "outputs": [],
      "source": [
        "print(\"labels: \", train_labels)"
      ]
    },
    {
      "cell_type": "code",
      "execution_count": null,
      "metadata": {
        "id": "m4VEw8Ud9Quh",
        "tags": []
      },
      "outputs": [],
      "source": [
        "plt.figure()\n",
        "plt.imshow(train_images[1])\n",
        "plt.colorbar()\n",
        "plt.grid(False)\n",
        "plt.show()"
      ]
    },
    {
      "cell_type": "markdown",
      "metadata": {
        "id": "0Td9_WmwAI52"
      },
      "source": [
        "Normalization of data between 0 and 1"
      ]
    },
    {
      "cell_type": "code",
      "execution_count": null,
      "metadata": {
        "id": "bW5WzIPlCaWv",
        "tags": []
      },
      "outputs": [],
      "source": [
        "train_images = train_images / 255.0\n",
        "\n",
        "valid_images = valid_images / 255.0\n",
        "\n",
        "test_images = test_images / 255.0"
      ]
    },
    {
      "cell_type": "code",
      "execution_count": null,
      "metadata": {
        "id": "X9scchUxAI53"
      },
      "outputs": [],
      "source": [
        "run_logdir = get_run_logdir()\n",
        "\n",
        "#create keras Tensorboard callback and early stopping_callback\n",
        "tensorboard_cb = #ADD YOUR CODE\n",
        "earlystopping_cb  = #ADD YOUR CODE"
      ]
    },
    {
      "cell_type": "code",
      "execution_count": null,
      "metadata": {
        "id": "9ODch-OFCaW4",
        "tags": []
      },
      "outputs": [],
      "source": [
        "model = tf.keras.Sequential([\n",
        "    #ADD YOUR CODE\n",
        "    tf.keras.layers.Flatten(),\n",
        "    tf.keras.layers.Dense(128, activation='relu'),\n",
        "    tf.keras.layers.Dense(64, activation='relu'),\n",
        "    tf.keras.layers.Dense(10, activation = 'softmax')\n",
        "])\n"
      ]
    },
    {
      "cell_type": "code",
      "execution_count": null,
      "metadata": {
        "id": "0wYMhnJbAI53"
      },
      "outputs": [],
      "source": [
        "model.summary()"
      ]
    },
    {
      "cell_type": "code",
      "execution_count": null,
      "metadata": {
        "id": "Lhan11blCaW7",
        "tags": []
      },
      "outputs": [],
      "source": [
        "model.compile( #ADD YOUR CODE\n",
        "    )"
      ]
    },
    {
      "cell_type": "code",
      "execution_count": null,
      "metadata": {
        "id": "xvwvpA64CaW_",
        "tags": []
      },
      "outputs": [],
      "source": [
        "model.fit( #ADD YOUR CODE\n",
        "    )"
      ]
    },
    {
      "cell_type": "code",
      "execution_count": null,
      "metadata": {
        "id": "EOmn28QIAI53"
      },
      "outputs": [],
      "source": [
        "%load_ext tensorboard\n",
        "%tensorboard --logdir my_logs_ML2_CIFAR"
      ]
    },
    {
      "cell_type": "markdown",
      "metadata": {
        "id": "wCpr6DGyE28h"
      },
      "source": [
        "### Evaluate accuracy\n",
        "\n",
        "Next, compare how the model performs on the test dataset:"
      ]
    },
    {
      "cell_type": "code",
      "execution_count": null,
      "metadata": {
        "id": "VflXLEeECaXC",
        "tags": []
      },
      "outputs": [],
      "source": [
        "test_loss, test_acc = model.evaluate(test_images,  test_labels, verbose=2)\n",
        "\n",
        "print('\\nTest accuracy:', test_acc)"
      ]
    },
    {
      "cell_type": "code",
      "execution_count": null,
      "metadata": {
        "id": "ioSo2aomAI54"
      },
      "outputs": [],
      "source": [
        "def plot_image(i, predictions_array, true_label, img):\n",
        "  true_label, img = true_label[i], img[i]\n",
        "  plt.grid(False)\n",
        "  plt.xticks([])\n",
        "  plt.yticks([])\n",
        "\n",
        "  plt.imshow(img, cmap=plt.cm.binary)\n",
        "\n",
        "  predicted_label = np.argmax(predictions_array)\n",
        "  if predicted_label == true_label:\n",
        "    color = 'blue'\n",
        "  else:\n",
        "    color = 'red'\n",
        "\n",
        "  plt.xlabel(\"{} {:2.0f}% ({})\".format(class_names[predicted_label],\n",
        "                                100*np.max(predictions_array),\n",
        "                                class_names[int(true_label)]),\n",
        "                                color=color)\n",
        "\n",
        "def plot_value_array(i, predictions_array, true_label):\n",
        "  true_label = true_label[i]\n",
        "  plt.grid(False)\n",
        "  plt.xticks(range(10))\n",
        "  plt.yticks([])\n",
        "  thisplot = plt.bar(range(10), predictions_array, color=\"#777777\")\n",
        "  plt.ylim([0, 1])\n",
        "  predicted_label = np.argmax(predictions_array)\n",
        "\n",
        "  thisplot[predicted_label].set_color('red')\n",
        "  thisplot[int(true_label)].set_color('blue')"
      ]
    },
    {
      "cell_type": "code",
      "execution_count": null,
      "metadata": {
        "id": "oCWTLNoHAI54"
      },
      "outputs": [],
      "source": [
        "predictions = model.predict(test_images)"
      ]
    },
    {
      "cell_type": "code",
      "execution_count": null,
      "metadata": {
        "id": "qfPT-zjUAI54"
      },
      "outputs": [],
      "source": [
        "i = 0\n",
        "plt.figure(figsize=(6,3))\n",
        "plt.subplot(1,2,1)\n",
        "plot_image(i, predictions[i], test_labels, test_images)\n",
        "plt.subplot(1,2,2)\n",
        "plot_value_array(i, predictions[i],  test_labels)\n",
        "plt.show()"
      ]
    },
    {
      "cell_type": "markdown",
      "metadata": {
        "id": "R32zteKHCaXT"
      },
      "source": [
        "## Use the trained model\n",
        "\n",
        "Finally, use the trained model to make a prediction about a single image."
      ]
    },
    {
      "cell_type": "code",
      "execution_count": null,
      "metadata": {
        "id": "yRJ7JU7JCaXT",
        "tags": []
      },
      "outputs": [],
      "source": [
        "img = tf.keras.utils.load_img(\"./test_image.jpg\", target_size=(32,32)#download your own image\n",
        ")\n",
        "\n",
        "img_array = tf.keras.utils.img_to_array(img)\n",
        "img_array = tf.expand_dims(img_array, 0) # Add the image to a batch where it's the only member.\n",
        "\n",
        "\n",
        "predictions = model.predict(img_array)\n",
        "score = predictions[0]\n",
        "\n",
        "print(\n",
        "    \"This image most likely belongs to {} with a {:.2f} percent confidence.\"\n",
        "    .format(class_names[np.argmax(score)], 100 * np.max(score))\n",
        ")"
      ]
    }
  ],
  "metadata": {
    "colab": {
      "toc_visible": true,
      "provenance": []
    },
    "kernelspec": {
      "display_name": "Python 3 (ipykernel)",
      "language": "python",
      "name": "python3"
    },
    "language_info": {
      "codemirror_mode": {
        "name": "ipython",
        "version": 3
      },
      "file_extension": ".py",
      "mimetype": "text/x-python",
      "name": "python",
      "nbconvert_exporter": "python",
      "pygments_lexer": "ipython3",
      "version": "3.10.10"
    }
  },
  "nbformat": 4,
  "nbformat_minor": 0
}